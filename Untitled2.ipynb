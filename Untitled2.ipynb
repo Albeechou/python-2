{
 "cells": [
  {
   "cell_type": "code",
   "execution_count": 1,
   "id": "95a41cf5-962e-4fb2-a1c1-7164f4d6f66d",
   "metadata": {},
   "outputs": [
    {
     "name": "stdout",
     "output_type": "stream",
     "text": [
      "Today's fruit is :Banana\n"
     ]
    }
   ],
   "source": [
    "import random\n",
    "\n",
    "\n",
    "fruits=['Apple','Orange', 'Banana','Pear','Tomato']\n",
    "cf=random.choice(fruits)\n",
    "\n",
    "print(\"Today's fruit is :\" + cf)\n"
   ]
  },
  {
   "cell_type": "code",
   "execution_count": 1,
   "id": "7ca51455-1ec3-4525-82e7-252e9fceef3b",
   "metadata": {},
   "outputs": [
    {
     "name": "stdin",
     "output_type": "stream",
     "text": [
      "請輸入景氣對策信號綜合分數 20\n"
     ]
    },
    {
     "name": "stdout",
     "output_type": "stream",
     "text": [
      "黃藍燈\n"
     ]
    }
   ],
   "source": [
    "score=int(input('請輸入景氣對策信號綜合分數'))\n",
    "if score>=45 or score<9:\n",
    "    print('錯誤')\n",
    "elif score>=37:\n",
    "    print('紅燈')\n",
    "elif score>=31:\n",
    "    print('黃紅燈')\n",
    "elif score>=22:\n",
    "    print('綠燈')\n",
    "elif score>=16:\n",
    "    print('黃藍燈')\n",
    "elif score>=9:\n",
    "    print('藍燈')"
   ]
  },
  {
   "cell_type": "code",
   "execution_count": 2,
   "id": "bf841af4-e56c-44e5-a443-ca51a84da713",
   "metadata": {},
   "outputs": [
    {
     "name": "stdin",
     "output_type": "stream",
     "text": [
      "請輸入淨年所得額: 1120000\n"
     ]
    },
    {
     "name": "stdout",
     "output_type": "stream",
     "text": [
      "應繳稅額＝ 98000.0\n"
     ]
    }
   ],
   "source": [
    "level1=520000*0.05\n",
    "level2=(1170000-520000)*0.12\n",
    "level3=(2340000-1170000)*0.2\n",
    "level4=(4400000-2350000)*0.3\n",
    "level5=(10000000-4400000)*0.4\n",
    "income=int(input('請輸入淨年所得額:'))\n",
    "\n",
    "if income<=520000:\n",
    "    tax=income*0.5\n",
    "\n",
    "elif income<=1170000:\n",
    "    tax=level1+((income-520000)*0.12)\n",
    "\n",
    "elif income<=2350000:\n",
    "    tax=level1+level2+((income-1170000)*0.2)\n",
    "\n",
    "elif income<=4400000:\n",
    "    tax=level1+level2+level3+((income-2350000)*0.3)\n",
    "\n",
    "elif income<=10000000:\n",
    "    tax=level1+level2+level3+level4+((income-44000000)*0.4)\n",
    "\n",
    "else:\n",
    "    tax=level1+level2+level3+level4+level5+((income-10000000)*0.45)\n",
    "\n",
    "print('應繳稅額＝',tax)"
   ]
  },
  {
   "cell_type": "code",
   "execution_count": null,
   "id": "70d830e3-ef29-44ac-9d48-ad5cd062e555",
   "metadata": {},
   "outputs": [],
   "source": []
  }
 ],
 "metadata": {
  "kernelspec": {
   "display_name": "Python 3 (ipykernel)",
   "language": "python",
   "name": "python3"
  },
  "language_info": {
   "codemirror_mode": {
    "name": "ipython",
    "version": 3
   },
   "file_extension": ".py",
   "mimetype": "text/x-python",
   "name": "python",
   "nbconvert_exporter": "python",
   "pygments_lexer": "ipython3",
   "version": "3.12.3"
  }
 },
 "nbformat": 4,
 "nbformat_minor": 5
}
